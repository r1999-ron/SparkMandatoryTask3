{
 "cells": [
  {
   "cell_type": "code",
   "execution_count": 1,
   "id": "2f99cc79-ea86-4875-a62d-e75cf3eb1fba",
   "metadata": {
    "execution": {
     "iopub.execute_input": "2024-06-25T06:38:48.258328Z",
     "iopub.status.busy": "2024-06-25T06:38:48.258038Z",
     "iopub.status.idle": "2024-06-25T06:39:25.086114Z",
     "shell.execute_reply": "2024-06-25T06:39:25.085257Z",
     "shell.execute_reply.started": "2024-06-25T06:38:48.258304Z"
    }
   },
   "outputs": [
    {
     "data": {
      "application/vnd.jupyter.widget-view+json": {
       "model_id": "7a172de3be984a92837386b7b96df183",
       "version_major": 2,
       "version_minor": 0
      },
      "text/plain": [
       "VBox()"
      ]
     },
     "metadata": {},
     "output_type": "display_data"
    },
    {
     "name": "stdout",
     "output_type": "stream",
     "text": [
      "Starting Spark application\n"
     ]
    },
    {
     "data": {
      "text/html": [
       "<table>\n<tbody><tr><th>ID</th><th>YARN Application ID</th><th>Kind</th><th>State</th><th>Spark UI</th><th>Driver log</th><th>User</th><th>Current session?</th></tr><tr><td>3</td><td>application_1719295528768_0004</td><td>spark</td><td>idle</td><td><a target=\"_blank\" href=\"http://ip-172-31-21-50.ap-south-1.compute.internal:20888/proxy/application_1719295528768_0004/\" class=\"emr-proxy-link j-1MA6AKC9EDSDF application_1719295528768_0004\" emr-resource=\"j-1MA6AKC9EDSDF\n\" application-id=\"application_1719295528768_0004\">Link</a></td><td><a target=\"_blank\" href=\"http://ip-172-31-25-76.ap-south-1.compute.internal:8042/node/containerlogs/container_1719295528768_0004_01_000001/livy\">Link</a></td><td>None</td><td>✔</td></tr></tbody></table>"
      ],
      "text/plain": [
       "<IPython.core.display.HTML object>"
      ]
     },
     "metadata": {},
     "output_type": "display_data"
    },
    {
     "data": {
      "application/vnd.jupyter.widget-view+json": {
       "model_id": "",
       "version_major": 2,
       "version_minor": 0
      },
      "text/plain": [
       "FloatProgress(value=0.0, bar_style='info', description='Progress:', layout=Layout(height='25px', width='50%'),…"
      ]
     },
     "metadata": {},
     "output_type": "display_data"
    },
    {
     "name": "stdout",
     "output_type": "stream",
     "text": [
      "SparkSession available as 'spark'.\n"
     ]
    },
    {
     "data": {
      "application/vnd.jupyter.widget-view+json": {
       "model_id": "",
       "version_major": 2,
       "version_minor": 0
      },
      "text/plain": [
       "FloatProgress(value=0.0, bar_style='info', description='Progress:', layout=Layout(height='25px', width='50%'),…"
      ]
     },
     "metadata": {},
     "output_type": "display_data"
    },
    {
     "name": "stdout",
     "output_type": "stream",
     "text": [
      "res1: org.apache.spark.sql.SparkSession = org.apache.spark.sql.SparkSession@62a10d60\n"
     ]
    }
   ],
   "source": [
    "spark"
   ]
  },
  {
   "cell_type": "code",
   "execution_count": 2,
   "id": "996004a7-e708-4f60-9a01-454bfebe42bc",
   "metadata": {
    "execution": {
     "iopub.execute_input": "2024-06-25T06:39:59.628620Z",
     "iopub.status.busy": "2024-06-25T06:39:59.628410Z",
     "iopub.status.idle": "2024-06-25T06:40:39.019757Z",
     "shell.execute_reply": "2024-06-25T06:40:39.019084Z",
     "shell.execute_reply.started": "2024-06-25T06:39:59.628597Z"
    },
    "tags": []
   },
   "outputs": [
    {
     "data": {
      "application/vnd.jupyter.widget-view+json": {
       "model_id": "c809d4799a10463ab321bee1515b05fa",
       "version_major": 2,
       "version_minor": 0
      },
      "text/plain": [
       "VBox()"
      ]
     },
     "metadata": {},
     "output_type": "display_data"
    },
    {
     "data": {
      "application/vnd.jupyter.widget-view+json": {
       "model_id": "",
       "version_major": 2,
       "version_minor": 0
      },
      "text/plain": [
       "FloatProgress(value=0.0, bar_style='info', description='Progress:', layout=Layout(height='25px', width='50%'),…"
      ]
     },
     "metadata": {},
     "output_type": "display_data"
    },
    {
     "name": "stdout",
     "output_type": "stream",
     "text": [
      "df_csv_data: org.apache.spark.sql.DataFrame = [From Date: string, To Date: string ... 23 more fields]\n"
     ]
    }
   ],
   "source": [
    "val df_csv_data = spark.read.option(\"header\", \"true\").option(\"inferSchema\", \"true\").csv(\"s3://ronaks3bucket/emrfolder123/*.csv\")"
   ]
  },
  {
   "cell_type": "code",
   "execution_count": 3,
   "id": "0a92aa42-1614-4e3d-a483-4e71d361448b",
   "metadata": {
    "execution": {
     "iopub.execute_input": "2024-06-25T06:42:07.000356Z",
     "iopub.status.busy": "2024-06-25T06:42:07.000142Z",
     "iopub.status.idle": "2024-06-25T06:44:14.637351Z",
     "shell.execute_reply": "2024-06-25T06:44:14.636720Z",
     "shell.execute_reply.started": "2024-06-25T06:42:07.000332Z"
    }
   },
   "outputs": [
    {
     "data": {
      "application/vnd.jupyter.widget-view+json": {
       "model_id": "7ffdb28430dc4fa2b16ed4bd24378be2",
       "version_major": 2,
       "version_minor": 0
      },
      "text/plain": [
       "VBox()"
      ]
     },
     "metadata": {},
     "output_type": "display_data"
    },
    {
     "data": {
      "application/vnd.jupyter.widget-view+json": {
       "model_id": "",
       "version_major": 2,
       "version_minor": 0
      },
      "text/plain": [
       "FloatProgress(value=0.0, bar_style='info', description='Progress:', layout=Layout(height='25px', width='50%'),…"
      ]
     },
     "metadata": {},
     "output_type": "display_data"
    }
   ],
   "source": [
    "df_csv_data.write.mode(\"overwrite\").parquet(\"s3://ronaks3bucket/emrfolder123/parquet_output\")"
   ]
  },
  {
   "cell_type": "code",
   "execution_count": 4,
   "id": "60f170dd-e940-406b-a71c-eff1c1db922f",
   "metadata": {
    "execution": {
     "iopub.execute_input": "2024-06-25T06:46:21.977253Z",
     "iopub.status.busy": "2024-06-25T06:46:21.977033Z",
     "iopub.status.idle": "2024-06-25T06:46:29.257717Z",
     "shell.execute_reply": "2024-06-25T06:46:29.257044Z",
     "shell.execute_reply.started": "2024-06-25T06:46:21.977229Z"
    }
   },
   "outputs": [
    {
     "data": {
      "application/vnd.jupyter.widget-view+json": {
       "model_id": "b86c60848ff44b54803e26b6243c57a5",
       "version_major": 2,
       "version_minor": 0
      },
      "text/plain": [
       "VBox()"
      ]
     },
     "metadata": {},
     "output_type": "display_data"
    },
    {
     "data": {
      "application/vnd.jupyter.widget-view+json": {
       "model_id": "",
       "version_major": 2,
       "version_minor": 0
      },
      "text/plain": [
       "FloatProgress(value=0.0, bar_style='info', description='Progress:', layout=Layout(height='25px', width='50%'),…"
      ]
     },
     "metadata": {},
     "output_type": "display_data"
    },
    {
     "name": "stdout",
     "output_type": "stream",
     "text": [
      "df_parquet: org.apache.spark.sql.DataFrame = [From Date: string, To Date: string ... 23 more fields]\n"
     ]
    }
   ],
   "source": [
    "val df_parquet = spark.read.option(\"header\",true).option(\"inferSchema\", true).parquet(\"s3://ronaks3bucket/emrfolder123/parquet_output/\")"
   ]
  },
  {
   "cell_type": "code",
   "execution_count": 5,
   "id": "e487ceda-d7ae-4a62-b9a3-848262170635",
   "metadata": {
    "execution": {
     "iopub.execute_input": "2024-06-25T06:46:37.962803Z",
     "iopub.status.busy": "2024-06-25T06:46:37.962585Z",
     "iopub.status.idle": "2024-06-25T06:46:40.224326Z",
     "shell.execute_reply": "2024-06-25T06:46:40.223653Z",
     "shell.execute_reply.started": "2024-06-25T06:46:37.962779Z"
    }
   },
   "outputs": [
    {
     "data": {
      "application/vnd.jupyter.widget-view+json": {
       "model_id": "ad0142fd606f41e4aef743ef7d5aed12",
       "version_major": 2,
       "version_minor": 0
      },
      "text/plain": [
       "VBox()"
      ]
     },
     "metadata": {},
     "output_type": "display_data"
    },
    {
     "data": {
      "application/vnd.jupyter.widget-view+json": {
       "model_id": "",
       "version_major": 2,
       "version_minor": 0
      },
      "text/plain": [
       "FloatProgress(value=0.0, bar_style='info', description='Progress:', layout=Layout(height='25px', width='50%'),…"
      ]
     },
     "metadata": {},
     "output_type": "display_data"
    },
    {
     "name": "stdout",
     "output_type": "stream",
     "text": [
      "+-------------------+-------------------+-------------+------------+----------+-----------+---------+-----------+-----------+----------+-------------+---------------+---------------+-------------------+-----------------+----------------+---------------+------+--------+--------+----------+---------+---------+--------------+-------------+\n",
      "|          From Date|            To Date|PM2.5 (ug/m3)|PM10 (ug/m3)|NO (ug/m3)|NO2 (ug/m3)|NOx (ppb)|NH3 (ug/m3)|SO2 (ug/m3)|CO (mg/m3)|Ozone (ug/m3)|Benzene (ug/m3)|Toluene (ug/m3)|Eth-Benzene (ug/m3)|MP-Xylene (ug/m3)|O Xylene (ug/m3)|Temp (degree C)|RH (%)|WS (m/s)|WD (deg)|SR (W/mt2)|BP (mmHg)|VWS (m/s)|Xylene (ug/m3)|AT (degree C)|\n",
      "+-------------------+-------------------+-------------+------------+----------+-----------+---------+-----------+-----------+----------+-------------+---------------+---------------+-------------------+-----------------+----------------+---------------+------+--------+--------+----------+---------+---------+--------------+-------------+\n",
      "|2023-02-10 09:00:00|2023-02-10 10:00:00|         40.0|       139.5|      2.45|       7.95|     6.25|      19.45|      14.55|       0.3|        61.85|            0.1|            0.2|               NULL|             NULL|            NULL|           56.0|  1.85|   239.5|   219.0|      NULL|    25.65|      0.0|          NULL|         NULL|\n",
      "|2023-02-10 10:00:00|2023-02-10 11:00:00|        18.75|       92.25|      1.95|       5.88|     4.67|      21.62|       15.1|      0.29|        64.92|            0.0|            0.2|               NULL|             NULL|            NULL|          56.25|  2.12|   241.0|   236.5|      NULL|    26.18|      0.0|          NULL|         NULL|\n",
      "|2023-02-10 11:00:00|2023-02-10 12:00:00|        13.25|        96.5|      1.78|       5.35|     4.28|       23.6|      14.18|      0.27|        66.17|            0.0|            0.2|               NULL|             NULL|            NULL|          53.25|  1.95|   251.0|   264.5|      NULL|     26.9|      0.0|          NULL|         NULL|\n",
      "|2023-02-10 12:00:00|2023-02-10 13:00:00|        15.25|       115.0|       1.6|        5.0|     3.97|      24.45|      13.05|      0.26|        70.33|            0.0|            0.2|               NULL|             NULL|            NULL|           48.5|  1.75|  238.75|  175.75|      NULL|    27.55|      0.0|          NULL|         NULL|\n",
      "|2023-02-10 13:00:00|2023-02-10 14:00:00|         18.5|        93.5|      1.62|       5.42|     4.23|       24.6|      11.62|      0.27|        71.47|            0.0|            0.2|               NULL|             NULL|            NULL|           45.0|  1.95|   248.0|  266.25|      NULL|     28.0|      0.0|          NULL|         NULL|\n",
      "|2023-02-10 14:00:00|2023-02-10 15:00:00|         12.0|        83.0|      1.55|       4.47|     3.62|      25.93|       8.72|      0.27|         73.6|            0.0|            0.2|               NULL|             NULL|            NULL|          40.75|  1.77|  237.75|  235.25|      NULL|    28.45|      0.0|          NULL|         NULL|\n",
      "|2023-02-10 15:00:00|2023-02-10 16:00:00|        11.75|        84.0|      1.45|       4.75|     3.67|      27.02|        7.2|      0.31|        76.92|            0.0|            0.2|               NULL|             NULL|            NULL|           39.0|  1.73|   241.5|   185.5|      NULL|    28.67|      0.0|          NULL|         NULL|\n",
      "|2023-02-10 16:00:00|2023-02-10 17:00:00|        10.25|       86.75|      1.58|        4.7|     3.77|      24.95|        7.7|      0.32|        79.83|            0.0|            0.2|               NULL|             NULL|            NULL|           39.5|   1.7|   240.5|   126.0|      NULL|    28.67|      0.0|          NULL|         NULL|\n",
      "|2023-02-10 17:00:00|2023-02-10 18:00:00|         13.5|        84.0|       1.6|       5.75|     4.33|      23.18|      12.12|      0.33|        80.42|            0.0|            0.2|               NULL|             0.03|            NULL|          42.75|  0.95|  210.25|    73.0|      NULL|    28.33|      0.0|          NULL|         NULL|\n",
      "|2023-02-10 18:00:00|2023-02-10 19:00:00|         20.0|      101.75|      1.48|      11.43|      7.3|      21.72|      11.38|       0.4|        67.52|            0.0|            0.2|                0.1|              0.1|            NULL|           50.0|  0.55|   201.5|   53.75|      NULL|    27.53|      0.0|          NULL|         NULL|\n",
      "|2023-02-10 19:00:00|2023-02-10 20:00:00|         22.0|       132.0|       1.3|      18.52|     10.9|      19.45|       7.67|      0.47|        53.25|           0.03|            0.3|               0.03|              0.1|            NULL|          52.25|  0.38|  200.75|    53.0|      NULL|    26.95|      0.0|          NULL|         NULL|\n",
      "|2023-02-10 20:00:00|2023-02-10 21:00:00|         24.5|       136.0|      2.15|      49.15|    27.88|       20.4|       6.93|      0.83|         21.0|           0.12|           0.75|               0.38|             0.45|             0.1|           55.0|  0.35|   216.0|    53.0|      NULL|    26.58|      0.0|          NULL|         NULL|\n",
      "|2023-02-10 21:00:00|2023-02-10 22:00:00|        41.75|      226.25|      1.42|      22.15|    12.93|      20.15|        6.7|      0.48|        49.97|           0.12|           1.82|               1.05|             1.05|             0.3|          54.75|   0.4|   140.0|   53.25|      NULL|     26.4|      0.0|          NULL|         NULL|\n",
      "|2023-02-10 22:00:00|2023-02-10 23:00:00|        23.75|       95.75|      2.05|      25.42|     15.2|      18.77|        5.7|      0.51|        37.43|            0.0|           0.45|               0.05|              0.1|            NULL|           63.5|   0.1|   97.75|   53.75|      NULL|    25.53|      0.0|          NULL|         NULL|\n",
      "|2023-02-10 23:00:00|2023-02-11 00:00:00|        19.25|       94.75|      2.27|      40.77|    23.55|      18.17|       4.75|      0.64|        15.22|           0.08|           0.57|                0.1|             0.12|            0.03|           70.0|  0.15|  130.25|    54.0|      NULL|    25.05|      0.0|          NULL|         NULL|\n",
      "|2023-02-11 00:00:00|2023-02-11 01:00:00|         37.5|      129.25|      5.05|      49.65|    30.53|      19.32|       3.52|      0.86|         5.83|           0.12|           1.32|               0.15|             0.42|            0.17|           75.0|   0.1|   96.75|    54.0|      NULL|    24.73|      0.0|          NULL|         NULL|\n",
      "|2023-02-11 01:00:00|2023-02-11 02:00:00|         44.0|      150.25|      4.85|      39.47|    24.92|       20.1|        3.1|      0.58|        19.35|            0.1|           1.23|                0.2|             0.57|             0.2|          74.75|  0.27|   104.5|    54.0|      NULL|    24.73|      0.0|          NULL|         NULL|\n",
      "|2023-02-11 02:00:00|2023-02-11 03:00:00|        27.25|       98.25|      1.45|      15.78|     9.57|      20.43|       2.92|      0.33|        32.75|           0.03|           0.38|               0.03|             0.15|            0.03|           78.5|   0.1|    76.0|    53.5|      NULL|    24.38|      0.0|          NULL|         NULL|\n",
      "|2023-02-11 03:00:00|2023-02-11 04:00:00|        18.25|        69.0|      4.67|      36.67|     23.3|       21.8|        2.7|      0.38|        11.58|           0.05|           0.45|               0.03|             0.12|            NULL|          82.25|  0.15|   120.0|    53.0|      NULL|     24.1|      0.0|          NULL|         NULL|\n",
      "|2023-02-11 04:00:00|2023-02-11 05:00:00|        24.25|       90.75|      7.57|       39.8|    27.32|      23.12|       2.22|      0.41|         7.27|           0.05|            0.5|                0.1|              0.2|            0.03|           84.0|  0.15|  111.25|   53.25|      NULL|    24.05|      0.0|          NULL|         NULL|\n",
      "+-------------------+-------------------+-------------+------------+----------+-----------+---------+-----------+-----------+----------+-------------+---------------+---------------+-------------------+-----------------+----------------+---------------+------+--------+--------+----------+---------+---------+--------------+-------------+\n",
      "only showing top 20 rows\n",
      "\n"
     ]
    }
   ],
   "source": [
    "df_parquet.show()"
   ]
  },
  {
   "cell_type": "code",
   "execution_count": 8,
   "id": "10428212-f29e-43b1-93f3-bb64baf16484",
   "metadata": {
    "execution": {
     "iopub.execute_input": "2024-06-25T06:49:33.971316Z",
     "iopub.status.busy": "2024-06-25T06:49:33.971090Z",
     "iopub.status.idle": "2024-06-25T06:49:49.269083Z",
     "shell.execute_reply": "2024-06-25T06:49:49.268362Z",
     "shell.execute_reply.started": "2024-06-25T06:49:33.971292Z"
    },
    "tags": []
   },
   "outputs": [
    {
     "data": {
      "application/vnd.jupyter.widget-view+json": {
       "model_id": "f15b86609e14422a8e459fa6fda10ee0",
       "version_major": 2,
       "version_minor": 0
      },
      "text/plain": [
       "VBox()"
      ]
     },
     "metadata": {},
     "output_type": "display_data"
    },
    {
     "data": {
      "application/vnd.jupyter.widget-view+json": {
       "model_id": "",
       "version_major": 2,
       "version_minor": 0
      },
      "text/plain": [
       "FloatProgress(value=0.0, bar_style='info', description='Progress:', layout=Layout(height='25px', width='50%'),…"
      ]
     },
     "metadata": {},
     "output_type": "display_data"
    },
    {
     "name": "stdout",
     "output_type": "stream",
     "text": [
      "sumPM10DF: org.apache.spark.sql.DataFrame = [From Date: string, Total_PM10: double]\n",
      "+-------------------+------------------+\n",
      "|          From Date|        Total_PM10|\n",
      "+-------------------+------------------+\n",
      "|2023-02-19 17:00:00|46336.170000000006|\n",
      "|2022-12-18 00:00:00|          72759.19|\n",
      "|2022-12-19 22:00:00|           81918.4|\n",
      "|2022-11-06 08:00:00|          49914.13|\n",
      "|2022-08-09 19:00:00|          16184.34|\n",
      "|2022-08-30 21:00:00|28250.909999999996|\n",
      "|2022-09-10 17:00:00|          19003.63|\n",
      "|2022-10-06 00:00:00|          17325.11|\n",
      "|2010-10-29 15:00:00|              NULL|\n",
      "|2010-10-29 19:00:00|              NULL|\n",
      "|2011-02-24 00:00:00|             18.36|\n",
      "|2011-03-21 17:00:00|            234.24|\n",
      "|2011-03-30 22:00:00|            208.89|\n",
      "|2011-04-11 23:00:00|            136.37|\n",
      "|2011-05-12 11:00:00|             89.08|\n",
      "|2011-06-18 21:00:00|2.8600000000000003|\n",
      "|2011-11-24 10:00:00| 67.27000000000001|\n",
      "|2012-01-01 02:00:00| 908.8000000000001|\n",
      "|2012-02-08 04:00:00|              5.82|\n",
      "|2012-03-04 05:00:00|114.83000000000001|\n",
      "+-------------------+------------------+\n",
      "only showing top 20 rows\n",
      "\n"
     ]
    }
   ],
   "source": [
    "val sumPM10DF = df_parquet.groupBy(\"From Date\").agg(sum(\"PM10 (ug/m3)\").alias(\"Total_PM10\"))\n",
    "sumPM10DF.show()"
   ]
  },
  {
   "cell_type": "code",
   "execution_count": 9,
   "id": "668f30df-e4ce-4dfa-a69e-9372271bdacb",
   "metadata": {
    "execution": {
     "iopub.execute_input": "2024-06-25T06:51:08.235052Z",
     "iopub.status.busy": "2024-06-25T06:51:08.234833Z",
     "iopub.status.idle": "2024-06-25T06:51:08.983416Z",
     "shell.execute_reply": "2024-06-25T06:51:08.982684Z",
     "shell.execute_reply.started": "2024-06-25T06:51:08.235028Z"
    }
   },
   "outputs": [
    {
     "data": {
      "application/vnd.jupyter.widget-view+json": {
       "model_id": "8bcdf5890223449c9ed325f88c1bfd0b",
       "version_major": 2,
       "version_minor": 0
      },
      "text/plain": [
       "VBox()"
      ]
     },
     "metadata": {},
     "output_type": "display_data"
    },
    {
     "data": {
      "application/vnd.jupyter.widget-view+json": {
       "model_id": "",
       "version_major": 2,
       "version_minor": 0
      },
      "text/plain": [
       "FloatProgress(value=0.0, bar_style='info', description='Progress:', layout=Layout(height='25px', width='50%'),…"
      ]
     },
     "metadata": {},
     "output_type": "display_data"
    },
    {
     "name": "stdout",
     "output_type": "stream",
     "text": [
      "root\n",
      " |-- From Date: string (nullable = true)\n",
      " |-- To Date: string (nullable = true)\n",
      " |-- PM2.5 (ug/m3): string (nullable = true)\n",
      " |-- PM10 (ug/m3): string (nullable = true)\n",
      " |-- NO (ug/m3): string (nullable = true)\n",
      " |-- NO2 (ug/m3): string (nullable = true)\n",
      " |-- NOx (ppb): string (nullable = true)\n",
      " |-- NH3 (ug/m3): string (nullable = true)\n",
      " |-- SO2 (ug/m3): string (nullable = true)\n",
      " |-- CO (mg/m3): string (nullable = true)\n",
      " |-- Ozone (ug/m3): string (nullable = true)\n",
      " |-- Benzene (ug/m3): string (nullable = true)\n",
      " |-- Toluene (ug/m3): string (nullable = true)\n",
      " |-- Eth-Benzene (ug/m3): string (nullable = true)\n",
      " |-- MP-Xylene (ug/m3): string (nullable = true)\n",
      " |-- O Xylene (ug/m3): string (nullable = true)\n",
      " |-- Temp (degree C): string (nullable = true)\n",
      " |-- RH (%): string (nullable = true)\n",
      " |-- WS (m/s): string (nullable = true)\n",
      " |-- WD (deg): string (nullable = true)\n",
      " |-- SR (W/mt2): string (nullable = true)\n",
      " |-- BP (mmHg): string (nullable = true)\n",
      " |-- VWS (m/s): string (nullable = true)\n",
      " |-- Xylene (ug/m3): string (nullable = true)\n",
      " |-- AT (degree C): string (nullable = true)\n",
      "\n"
     ]
    }
   ],
   "source": [
    "df_parquet.printSchema()"
   ]
  },
  {
   "cell_type": "code",
   "execution_count": 11,
   "id": "fc983b45-9142-4393-8a44-c5472bb7c2f6",
   "metadata": {
    "execution": {
     "iopub.execute_input": "2024-06-25T06:54:03.166551Z",
     "iopub.status.busy": "2024-06-25T06:54:03.166326Z",
     "iopub.status.idle": "2024-06-25T06:54:08.437555Z",
     "shell.execute_reply": "2024-06-25T06:54:08.436916Z",
     "shell.execute_reply.started": "2024-06-25T06:54:03.166525Z"
    },
    "tags": []
   },
   "outputs": [
    {
     "data": {
      "application/vnd.jupyter.widget-view+json": {
       "model_id": "33877927afa54970b0895586ee43d566",
       "version_major": 2,
       "version_minor": 0
      },
      "text/plain": [
       "VBox()"
      ]
     },
     "metadata": {},
     "output_type": "display_data"
    },
    {
     "data": {
      "application/vnd.jupyter.widget-view+json": {
       "model_id": "",
       "version_major": 2,
       "version_minor": 0
      },
      "text/plain": [
       "FloatProgress(value=0.0, bar_style='info', description='Progress:', layout=Layout(height='25px', width='50%'),…"
      ]
     },
     "metadata": {},
     "output_type": "display_data"
    },
    {
     "name": "stdout",
     "output_type": "stream",
     "text": [
      "avgPM25DF: org.apache.spark.sql.DataFrame = [From Date: string, Avg_PM25: double]\n",
      "+-------------------+------------------+\n",
      "|          From Date|          Avg_PM25|\n",
      "+-------------------+------------------+\n",
      "|2023-02-19 17:00:00| 66.43280346820809|\n",
      "|2022-12-18 00:00:00|130.75621874999996|\n",
      "|2022-12-19 22:00:00|146.38824404761903|\n",
      "|2022-11-06 08:00:00| 89.77198051948051|\n",
      "|2022-08-09 19:00:00|  20.5499641577061|\n",
      "|2022-08-30 21:00:00| 41.69333333333334|\n",
      "|2022-09-10 17:00:00|25.860302013422814|\n",
      "|2022-10-06 00:00:00| 29.97229965156794|\n",
      "|2010-10-29 15:00:00|            175.75|\n",
      "|2010-10-29 19:00:00|             238.0|\n",
      "|2011-02-24 00:00:00|            432.25|\n",
      "|2011-03-21 17:00:00|             21.25|\n",
      "|2011-03-30 22:00:00|            125.75|\n",
      "|2011-04-11 23:00:00|             223.5|\n",
      "|2011-05-12 11:00:00| 68.66666666666667|\n",
      "|2011-06-18 21:00:00|            68.125|\n",
      "|2011-11-24 10:00:00|             471.0|\n",
      "|2012-01-01 02:00:00|398.90999999999997|\n",
      "|2012-02-08 04:00:00|             86.93|\n",
      "|2012-03-04 05:00:00|           171.395|\n",
      "+-------------------+------------------+\n",
      "only showing top 20 rows\n",
      "\n"
     ]
    }
   ],
   "source": [
    "val avgPM25DF = df_parquet.groupBy(\"`From Date`\").agg(avg($\"`PM2.5 (ug/m3)`\").alias(\"Avg_PM25\"))\n",
    "avgPM25DF.show()"
   ]
  },
  {
   "cell_type": "code",
   "execution_count": 12,
   "id": "811fd84a-1db0-4f3e-aa14-c6ffc7cec4fb",
   "metadata": {
    "execution": {
     "iopub.execute_input": "2024-06-25T06:54:36.002556Z",
     "iopub.status.busy": "2024-06-25T06:54:36.002343Z",
     "iopub.status.idle": "2024-06-25T06:54:47.292374Z",
     "shell.execute_reply": "2024-06-25T06:54:47.291778Z",
     "shell.execute_reply.started": "2024-06-25T06:54:36.002534Z"
    }
   },
   "outputs": [
    {
     "data": {
      "application/vnd.jupyter.widget-view+json": {
       "model_id": "c49a5dd9a9434a21858ba5f7a100434e",
       "version_major": 2,
       "version_minor": 0
      },
      "text/plain": [
       "VBox()"
      ]
     },
     "metadata": {},
     "output_type": "display_data"
    },
    {
     "data": {
      "application/vnd.jupyter.widget-view+json": {
       "model_id": "",
       "version_major": 2,
       "version_minor": 0
      },
      "text/plain": [
       "FloatProgress(value=0.0, bar_style='info', description='Progress:', layout=Layout(height='25px', width='50%'),…"
      ]
     },
     "metadata": {},
     "output_type": "display_data"
    },
    {
     "name": "stdout",
     "output_type": "stream",
     "text": [
      "maxPM10DF: org.apache.spark.sql.DataFrame = [Date: string, Max_PM10: string]\n",
      "+----------+--------+\n",
      "|      Date|Max_PM10|\n",
      "+----------+--------+\n",
      "|      NULL|   WBPCB|\n",
      "|2010-01-01|    NULL|\n",
      "|2010-01-02|    NULL|\n",
      "|2010-01-03|    NULL|\n",
      "|2010-01-04|    NULL|\n",
      "|2010-01-05|    NULL|\n",
      "|2010-01-06|    NULL|\n",
      "|2010-01-07|    NULL|\n",
      "|2010-01-08|    NULL|\n",
      "|2010-01-09|    NULL|\n",
      "|2010-01-10|    NULL|\n",
      "|2010-01-11|    NULL|\n",
      "|2010-01-12|    NULL|\n",
      "|2010-01-13|    NULL|\n",
      "|2010-01-14|    NULL|\n",
      "|2010-01-15|    NULL|\n",
      "|2010-01-16|    NULL|\n",
      "|2010-01-17|    NULL|\n",
      "|2010-01-18|    NULL|\n",
      "|2010-01-19|    NULL|\n",
      "+----------+--------+\n",
      "only showing top 20 rows\n",
      "\n"
     ]
    }
   ],
   "source": [
    "val maxPM10DF = df_parquet.groupBy(date_format($\"`From Date`\", \"yyyy-MM-dd\").alias(\"Date\")).agg(max($\"`PM10 (ug/m3)`\").alias(\"Max_PM10\"))\n",
    "maxPM10DF.show()"
   ]
  },
  {
   "cell_type": "code",
   "execution_count": 13,
   "id": "3ec098e5-4e3f-4d5b-a870-9ce8899af626",
   "metadata": {
    "execution": {
     "iopub.execute_input": "2024-06-25T06:55:26.642586Z",
     "iopub.status.busy": "2024-06-25T06:55:26.642360Z",
     "iopub.status.idle": "2024-06-25T06:55:33.919510Z",
     "shell.execute_reply": "2024-06-25T06:55:33.918913Z",
     "shell.execute_reply.started": "2024-06-25T06:55:26.642560Z"
    }
   },
   "outputs": [
    {
     "data": {
      "application/vnd.jupyter.widget-view+json": {
       "model_id": "9b00c3b5333a46829b9dcfe7e9769e15",
       "version_major": 2,
       "version_minor": 0
      },
      "text/plain": [
       "VBox()"
      ]
     },
     "metadata": {},
     "output_type": "display_data"
    },
    {
     "data": {
      "application/vnd.jupyter.widget-view+json": {
       "model_id": "",
       "version_major": 2,
       "version_minor": 0
      },
      "text/plain": [
       "FloatProgress(value=0.0, bar_style='info', description='Progress:', layout=Layout(height='25px', width='50%'),…"
      ]
     },
     "metadata": {},
     "output_type": "display_data"
    },
    {
     "name": "stdout",
     "output_type": "stream",
     "text": [
      "totalNOxDF: org.apache.spark.sql.DataFrame = [Date: string, Total_NOx: double]\n",
      "+----------+------------------+\n",
      "|      Date|         Total_NOx|\n",
      "+----------+------------------+\n",
      "|      NULL|            2736.0|\n",
      "|2011-01-29| 21226.91999999999|\n",
      "|2013-03-14|10786.090000000002|\n",
      "|2017-05-14|25746.639999999996|\n",
      "|2010-09-24| 11413.72000000001|\n",
      "|2016-08-08| 24643.90999999998|\n",
      "|2016-08-20|11329.699999999999|\n",
      "|2019-09-29| 84524.29999999993|\n",
      "|2010-03-06|10535.239999999996|\n",
      "|2023-02-10|329828.98000000004|\n",
      "|2015-02-28| 8566.019999999993|\n",
      "|2015-11-20| 39437.93000000006|\n",
      "|2016-07-06|19680.510000000006|\n",
      "|2013-11-08|12160.939999999991|\n",
      "|2014-03-17|           7296.75|\n",
      "|2016-04-15| 30329.48999999997|\n",
      "|2018-03-16|          98384.64|\n",
      "|2020-06-20| 82308.47999999998|\n",
      "|2010-06-15|           6848.36|\n",
      "|2014-07-24|          10738.81|\n",
      "+----------+------------------+\n",
      "only showing top 20 rows\n",
      "\n"
     ]
    }
   ],
   "source": [
    "val totalNOxDF = df_parquet.groupBy(date_format($\"`From Date`\", \"yyyy-MM-dd\").alias(\"Date\")).agg(sum($\"`NOx (ppb)`\").alias(\"Total_NOx\"))\n",
    "totalNOxDF.show()\n"
   ]
  },
  {
   "cell_type": "code",
   "execution_count": 14,
   "id": "7e9767bd-97be-41b6-8076-e7d0e860028d",
   "metadata": {
    "execution": {
     "iopub.execute_input": "2024-06-25T06:55:59.031183Z",
     "iopub.status.busy": "2024-06-25T06:55:59.030926Z",
     "iopub.status.idle": "2024-06-25T06:56:02.297362Z",
     "shell.execute_reply": "2024-06-25T06:56:02.296698Z",
     "shell.execute_reply.started": "2024-06-25T06:55:59.031156Z"
    }
   },
   "outputs": [
    {
     "data": {
      "application/vnd.jupyter.widget-view+json": {
       "model_id": "f62d3257a02f410e8425ad257a367f88",
       "version_major": 2,
       "version_minor": 0
      },
      "text/plain": [
       "VBox()"
      ]
     },
     "metadata": {},
     "output_type": "display_data"
    },
    {
     "data": {
      "application/vnd.jupyter.widget-view+json": {
       "model_id": "",
       "version_major": 2,
       "version_minor": 0
      },
      "text/plain": [
       "FloatProgress(value=0.0, bar_style='info', description='Progress:', layout=Layout(height='25px', width='50%'),…"
      ]
     },
     "metadata": {},
     "output_type": "display_data"
    },
    {
     "name": "stdout",
     "output_type": "stream",
     "text": [
      "avgTempDF: org.apache.spark.sql.DataFrame = [From Date: string, Avg_Temp: double]\n",
      "+-------------------+------------------+\n",
      "|          From Date|          Avg_Temp|\n",
      "+-------------------+------------------+\n",
      "|2023-02-19 17:00:00| 69.94306397306396|\n",
      "|2022-12-18 00:00:00| 89.91538167938931|\n",
      "|2022-12-19 22:00:00|  87.5172893772894|\n",
      "|2022-11-06 08:00:00| 88.39498023715416|\n",
      "|2022-08-09 19:00:00| 88.68167364016736|\n",
      "|2022-08-30 21:00:00| 97.77507812500001|\n",
      "|2022-09-10 17:00:00| 89.72567346938774|\n",
      "|2022-10-06 00:00:00| 93.93057142857143|\n",
      "|2010-10-29 15:00:00|107.83076923076922|\n",
      "|2010-10-29 19:00:00| 90.45692307692306|\n",
      "|2011-02-24 00:00:00|        166.148125|\n",
      "|2011-03-21 17:00:00| 157.8194117647059|\n",
      "|2011-03-30 22:00:00|213.20833333333334|\n",
      "|2011-04-11 23:00:00|142.83153846153846|\n",
      "|2011-05-12 11:00:00|        211.845625|\n",
      "|2011-06-18 21:00:00|142.18866666666662|\n",
      "|2011-11-24 10:00:00|224.74461538461537|\n",
      "|2012-01-01 02:00:00|170.21099999999998|\n",
      "|2012-02-08 04:00:00|162.55818181818182|\n",
      "|2012-03-04 05:00:00|152.87277777777777|\n",
      "+-------------------+------------------+\n",
      "only showing top 20 rows\n",
      "\n"
     ]
    }
   ],
   "source": [
    "val avgTempDF = df_parquet.groupBy(\"`From Date`\").agg(avg($\"`Temp (degree C)`\").alias(\"Avg_Temp\"))\n",
    "avgTempDF.show()\n"
   ]
  },
  {
   "cell_type": "code",
   "execution_count": 15,
   "id": "f2b04d01-21f9-45c4-b262-dd6ae628a058",
   "metadata": {
    "execution": {
     "iopub.execute_input": "2024-06-25T06:56:25.117271Z",
     "iopub.status.busy": "2024-06-25T06:56:25.116955Z",
     "iopub.status.idle": "2024-06-25T06:56:32.404916Z",
     "shell.execute_reply": "2024-06-25T06:56:32.404180Z",
     "shell.execute_reply.started": "2024-06-25T06:56:25.117232Z"
    }
   },
   "outputs": [
    {
     "data": {
      "application/vnd.jupyter.widget-view+json": {
       "model_id": "893aa869efab4290978b0674ce7fa733",
       "version_major": 2,
       "version_minor": 0
      },
      "text/plain": [
       "VBox()"
      ]
     },
     "metadata": {},
     "output_type": "display_data"
    },
    {
     "data": {
      "application/vnd.jupyter.widget-view+json": {
       "model_id": "",
       "version_major": 2,
       "version_minor": 0
      },
      "text/plain": [
       "FloatProgress(value=0.0, bar_style='info', description='Progress:', layout=Layout(height='25px', width='50%'),…"
      ]
     },
     "metadata": {},
     "output_type": "display_data"
    },
    {
     "name": "stdout",
     "output_type": "stream",
     "text": [
      "maxCODF: org.apache.spark.sql.DataFrame = [From Date: string, Max_CO: string]\n",
      "+-------------------+------+\n",
      "|          From Date|Max_CO|\n",
      "+-------------------+------+\n",
      "|2010-01-01 20:00:00|  6.75|\n",
      "|2010-01-05 05:00:00|  6.86|\n",
      "|2010-01-05 06:00:00|  7.51|\n",
      "|2010-01-07 02:00:00|   6.7|\n",
      "|2010-01-07 22:00:00|  8.34|\n",
      "|2010-01-08 03:00:00|  5.21|\n",
      "|2010-01-11 05:00:00|  5.87|\n",
      "|2010-01-11 15:00:00|  5.62|\n",
      "|2010-01-16 20:00:00|   5.1|\n",
      "|2010-01-18 07:00:00|   3.6|\n",
      "|2010-01-19 01:00:00|  3.58|\n",
      "|2010-01-19 10:00:00| 39.67|\n",
      "|2010-01-20 05:00:00|  2.81|\n",
      "|2010-01-20 06:00:00|  2.59|\n",
      "|2010-01-22 18:00:00|  5.37|\n",
      "|2010-01-23 07:00:00|  1.77|\n",
      "|2010-01-24 00:00:00|  4.12|\n",
      "|2010-01-25 05:00:00|  1.83|\n",
      "|2010-01-25 16:00:00|  2.87|\n",
      "|2010-01-25 21:00:00|  6.32|\n",
      "+-------------------+------+\n",
      "only showing top 20 rows\n",
      "\n"
     ]
    }
   ],
   "source": [
    "val maxCODF = df_parquet.groupBy(\"`From Date`\").agg(max($\"`CO (mg/m3)`\").alias(\"Max_CO\"))\n",
    "maxCODF.show()"
   ]
  },
  {
   "cell_type": "code",
   "execution_count": 16,
   "id": "bbe62fcf-bc79-4c9b-b796-e07290c89e38",
   "metadata": {
    "execution": {
     "iopub.execute_input": "2024-06-25T06:57:04.969404Z",
     "iopub.status.busy": "2024-06-25T06:57:04.969163Z",
     "iopub.status.idle": "2024-06-25T06:57:12.246953Z",
     "shell.execute_reply": "2024-06-25T06:57:12.246351Z",
     "shell.execute_reply.started": "2024-06-25T06:57:04.969378Z"
    }
   },
   "outputs": [
    {
     "data": {
      "application/vnd.jupyter.widget-view+json": {
       "model_id": "b56ae561f5834e8da961bf70b7e97f3b",
       "version_major": 2,
       "version_minor": 0
      },
      "text/plain": [
       "VBox()"
      ]
     },
     "metadata": {},
     "output_type": "display_data"
    },
    {
     "data": {
      "application/vnd.jupyter.widget-view+json": {
       "model_id": "",
       "version_major": 2,
       "version_minor": 0
      },
      "text/plain": [
       "FloatProgress(value=0.0, bar_style='info', description='Progress:', layout=Layout(height='25px', width='50%'),…"
      ]
     },
     "metadata": {},
     "output_type": "display_data"
    },
    {
     "name": "stdout",
     "output_type": "stream",
     "text": [
      "sumNO2DF: org.apache.spark.sql.DataFrame = [Date: string, Sum_NO2: double]\n",
      "+----------+------------------+\n",
      "|      Date|           Sum_NO2|\n",
      "+----------+------------------+\n",
      "|      NULL|              NULL|\n",
      "|2011-01-29|22604.959999999992|\n",
      "|2013-03-14|10531.380000000001|\n",
      "|2017-05-14|30668.919999999995|\n",
      "|2010-09-24| 7495.879999999996|\n",
      "|2016-08-08|          17751.55|\n",
      "|2016-08-20|17322.819999999992|\n",
      "|2019-09-29| 74336.37000000001|\n",
      "|2010-03-06| 7531.390000000001|\n",
      "|2023-02-10| 271396.5600000002|\n",
      "|2015-02-28| 7703.990000000002|\n",
      "|2015-11-20| 38819.11000000002|\n",
      "|2016-07-06| 17937.42999999999|\n",
      "|2013-11-08|10063.550000000007|\n",
      "|2014-03-17| 7520.670000000001|\n",
      "|2016-04-15|29827.780000000006|\n",
      "|2018-03-16| 79979.61000000002|\n",
      "|2020-06-20| 74321.91000000002|\n",
      "|2010-06-15| 5581.359999999999|\n",
      "|2014-07-24| 7121.289999999999|\n",
      "+----------+------------------+\n",
      "only showing top 20 rows\n",
      "\n"
     ]
    }
   ],
   "source": [
    "val sumNO2DF = df_parquet.groupBy(date_format($\"`From Date`\", \"yyyy-MM-dd\").alias(\"Date\")).agg(sum($\"`NO2 (ug/m3)`\").alias(\"Sum_NO2\"))\n",
    "sumNO2DF.show()"
   ]
  },
  {
   "cell_type": "code",
   "execution_count": 17,
   "id": "dd84b987-501c-4ebe-99c3-b1229682d520",
   "metadata": {
    "execution": {
     "iopub.execute_input": "2024-06-25T06:57:21.854756Z",
     "iopub.status.busy": "2024-06-25T06:57:21.854531Z",
     "iopub.status.idle": "2024-06-25T06:57:31.137824Z",
     "shell.execute_reply": "2024-06-25T06:57:31.137042Z",
     "shell.execute_reply.started": "2024-06-25T06:57:21.854730Z"
    }
   },
   "outputs": [
    {
     "data": {
      "application/vnd.jupyter.widget-view+json": {
       "model_id": "2a2739e73ded4d21b1da4617e32d7bcf",
       "version_major": 2,
       "version_minor": 0
      },
      "text/plain": [
       "VBox()"
      ]
     },
     "metadata": {},
     "output_type": "display_data"
    },
    {
     "data": {
      "application/vnd.jupyter.widget-view+json": {
       "model_id": "",
       "version_major": 2,
       "version_minor": 0
      },
      "text/plain": [
       "FloatProgress(value=0.0, bar_style='info', description='Progress:', layout=Layout(height='25px', width='50%'),…"
      ]
     },
     "metadata": {},
     "output_type": "display_data"
    },
    {
     "name": "stdout",
     "output_type": "stream",
     "text": [
      "minRHDF: org.apache.spark.sql.DataFrame = [Date: string, Min_RH: string]\n",
      "+----------+------+\n",
      "|      Date|Min_RH|\n",
      "+----------+------+\n",
      "|      NULL|  NULL|\n",
      "|2010-01-01|  0.06|\n",
      "|2010-01-02|  0.04|\n",
      "|2010-01-03|  0.04|\n",
      "|2010-01-04|  0.09|\n",
      "|2010-01-05|  0.06|\n",
      "|2010-01-06|  0.06|\n",
      "|2010-01-07|  0.03|\n",
      "|2010-01-08|  0.03|\n",
      "|2010-01-09|  0.03|\n",
      "|2010-01-10|  0.04|\n",
      "|2010-01-11|  0.03|\n",
      "|2010-01-12|  0.04|\n",
      "|2010-01-13|  0.03|\n",
      "|2010-01-14|  0.02|\n",
      "|2010-01-15|  0.01|\n",
      "|2010-01-16|  0.05|\n",
      "|2010-01-17|  0.06|\n",
      "|2010-01-18|  0.06|\n",
      "|2010-01-19|  0.28|\n",
      "+----------+------+\n",
      "only showing top 20 rows\n",
      "\n"
     ]
    }
   ],
   "source": [
    "val minRHDF = df_parquet.groupBy(date_format($\"`From Date`\", \"yyyy-MM-dd\").alias(\"Date\")).agg(min($\"`RH (%)`\").alias(\"Min_RH\"))\n",
    "minRHDF.show()\n"
   ]
  },
  {
   "cell_type": "code",
   "execution_count": 18,
   "id": "2d3a9c3e-b416-4386-a607-ecb2f8b46b0a",
   "metadata": {
    "execution": {
     "iopub.execute_input": "2024-06-25T06:57:44.651538Z",
     "iopub.status.busy": "2024-06-25T06:57:44.651320Z",
     "iopub.status.idle": "2024-06-25T06:57:47.916101Z",
     "shell.execute_reply": "2024-06-25T06:57:47.915425Z",
     "shell.execute_reply.started": "2024-06-25T06:57:44.651515Z"
    }
   },
   "outputs": [
    {
     "data": {
      "application/vnd.jupyter.widget-view+json": {
       "model_id": "4d7f5360f452475a9d9d9686654e0395",
       "version_major": 2,
       "version_minor": 0
      },
      "text/plain": [
       "VBox()"
      ]
     },
     "metadata": {},
     "output_type": "display_data"
    },
    {
     "data": {
      "application/vnd.jupyter.widget-view+json": {
       "model_id": "",
       "version_major": 2,
       "version_minor": 0
      },
      "text/plain": [
       "FloatProgress(value=0.0, bar_style='info', description='Progress:', layout=Layout(height='25px', width='50%'),…"
      ]
     },
     "metadata": {},
     "output_type": "display_data"
    },
    {
     "name": "stdout",
     "output_type": "stream",
     "text": [
      "avgWSDF: org.apache.spark.sql.DataFrame = [From Date: string, Avg_WS: double]\n",
      "+-------------------+------------------+\n",
      "|          From Date|            Avg_WS|\n",
      "+-------------------+------------------+\n",
      "|2023-02-19 17:00:00| 213.4808802816901|\n",
      "|2022-12-18 00:00:00|215.10389105058366|\n",
      "|2022-12-19 22:00:00|220.50634686346865|\n",
      "|2022-11-06 08:00:00|243.97667953667957|\n",
      "|2022-08-09 19:00:00|226.32376569037658|\n",
      "|2022-08-30 21:00:00|243.52024193548388|\n",
      "|2022-09-10 17:00:00| 226.0501976284585|\n",
      "|2022-10-06 00:00:00|228.66452282157678|\n",
      "|2010-10-29 15:00:00| 58.31846153846155|\n",
      "|2010-10-29 19:00:00|34.919230769230765|\n",
      "|2011-02-24 00:00:00|21.398235294117647|\n",
      "|2011-03-21 17:00:00|37.857777777777784|\n",
      "|2011-03-30 22:00:00|129.07416666666668|\n",
      "|2011-04-11 23:00:00| 99.24333333333333|\n",
      "|2011-05-12 11:00:00|135.15499999999994|\n",
      "|2011-06-18 21:00:00|135.80166666666665|\n",
      "|2011-11-24 10:00:00| 85.46571428571428|\n",
      "|2012-01-01 02:00:00| 46.99666666666667|\n",
      "|2012-02-08 04:00:00|49.041818181818186|\n",
      "|2012-03-04 05:00:00| 97.10133333333332|\n",
      "+-------------------+------------------+\n",
      "only showing top 20 rows\n",
      "\n"
     ]
    }
   ],
   "source": [
    "val avgWSDF = df_parquet.groupBy(\"`From Date`\").agg(avg($\"`WS (m/s)`\").alias(\"Avg_WS\"))\n",
    "avgWSDF.show()"
   ]
  },
  {
   "cell_type": "code",
   "execution_count": 19,
   "id": "50546948-e481-4f69-9bbc-6acbb730d004",
   "metadata": {
    "execution": {
     "iopub.execute_input": "2024-06-25T06:59:15.164099Z",
     "iopub.status.busy": "2024-06-25T06:59:15.163871Z",
     "iopub.status.idle": "2024-06-25T06:59:32.468086Z",
     "shell.execute_reply": "2024-06-25T06:59:32.467426Z",
     "shell.execute_reply.started": "2024-06-25T06:59:15.164074Z"
    }
   },
   "outputs": [
    {
     "data": {
      "application/vnd.jupyter.widget-view+json": {
       "model_id": "87749690bafe408da5afd38e82f13531",
       "version_major": 2,
       "version_minor": 0
      },
      "text/plain": [
       "VBox()"
      ]
     },
     "metadata": {},
     "output_type": "display_data"
    },
    {
     "data": {
      "application/vnd.jupyter.widget-view+json": {
       "model_id": "",
       "version_major": 2,
       "version_minor": 0
      },
      "text/plain": [
       "FloatProgress(value=0.0, bar_style='info', description='Progress:', layout=Layout(height='25px', width='50%'),…"
      ]
     },
     "metadata": {},
     "output_type": "display_data"
    },
    {
     "name": "stdout",
     "output_type": "stream",
     "text": [
      "maxSRDF: org.apache.spark.sql.DataFrame = [From Date: string, Max_SR: string]\n",
      "+-------------------+------+\n",
      "|          From Date|Max_SR|\n",
      "+-------------------+------+\n",
      "|2010-01-01 20:00:00| 999.9|\n",
      "|2010-01-05 05:00:00|994.72|\n",
      "|2010-01-05 06:00:00|995.13|\n",
      "|2010-01-07 02:00:00|998.16|\n",
      "|2010-01-07 22:00:00|732.52|\n",
      "|2010-01-08 03:00:00|999.13|\n",
      "|2010-01-11 05:00:00| 87.88|\n",
      "|2010-01-11 15:00:00|732.33|\n",
      "|2010-01-16 20:00:00|732.61|\n",
      "|2010-01-18 07:00:00| 89.26|\n",
      "|2010-01-19 01:00:00|732.72|\n",
      "|2010-01-19 10:00:00|732.45|\n",
      "|2010-01-20 05:00:00|732.58|\n",
      "|2010-01-20 06:00:00|732.64|\n",
      "|2010-01-22 18:00:00|998.86|\n",
      "|2010-01-23 07:00:00|732.69|\n",
      "|2010-01-24 00:00:00|998.55|\n",
      "|2010-01-25 05:00:00|997.75|\n",
      "|2010-01-25 16:00:00|997.13|\n",
      "|2010-01-25 21:00:00|999.17|\n",
      "+-------------------+------+\n",
      "only showing top 20 rows\n",
      "\n"
     ]
    }
   ],
   "source": [
    "val maxSRDF = df_parquet.groupBy(\"`From Date`\").agg(max($\"`SR (W/mt2)`\").alias(\"Max_SR\"))\n",
    "maxSRDF.show()"
   ]
  },
  {
   "cell_type": "code",
   "execution_count": 20,
   "id": "916ecc3b-cb59-4506-898f-801e6c435602",
   "metadata": {
    "execution": {
     "iopub.execute_input": "2024-06-25T07:00:05.397687Z",
     "iopub.status.busy": "2024-06-25T07:00:05.397463Z",
     "iopub.status.idle": "2024-06-25T07:00:10.665433Z",
     "shell.execute_reply": "2024-06-25T07:00:10.664684Z",
     "shell.execute_reply.started": "2024-06-25T07:00:05.397661Z"
    }
   },
   "outputs": [
    {
     "data": {
      "application/vnd.jupyter.widget-view+json": {
       "model_id": "dff7ee3a23a6452788204413d266ff2e",
       "version_major": 2,
       "version_minor": 0
      },
      "text/plain": [
       "VBox()"
      ]
     },
     "metadata": {},
     "output_type": "display_data"
    },
    {
     "data": {
      "application/vnd.jupyter.widget-view+json": {
       "model_id": "",
       "version_major": 2,
       "version_minor": 0
      },
      "text/plain": [
       "FloatProgress(value=0.0, bar_style='info', description='Progress:', layout=Layout(height='25px', width='50%'),…"
      ]
     },
     "metadata": {},
     "output_type": "display_data"
    },
    {
     "name": "stdout",
     "output_type": "stream",
     "text": [
      "totalBenzeneDF: org.apache.spark.sql.DataFrame = [From Date: string, Total_Benzene: double]\n",
      "+-------------------+------------------+\n",
      "|          From Date|     Total_Benzene|\n",
      "+-------------------+------------------+\n",
      "|2023-02-19 17:00:00|1911.7899999999995|\n",
      "|2022-12-18 00:00:00|2447.3700000000003|\n",
      "|2022-12-19 22:00:00|           2391.11|\n",
      "|2022-11-06 08:00:00|1665.9499999999998|\n",
      "|2022-08-09 19:00:00|           1143.71|\n",
      "|2022-08-30 21:00:00|1204.3400000000001|\n",
      "|2022-09-10 17:00:00|           1482.23|\n",
      "|2022-10-06 00:00:00|           1139.77|\n",
      "|2010-10-29 15:00:00|              6.08|\n",
      "|2010-10-29 19:00:00|             30.94|\n",
      "|2011-02-24 00:00:00|63.879999999999995|\n",
      "|2011-03-21 17:00:00|              66.7|\n",
      "|2011-03-30 22:00:00|            147.45|\n",
      "|2011-04-11 23:00:00|33.489999999999995|\n",
      "|2011-05-12 11:00:00|             76.21|\n",
      "|2011-06-18 21:00:00|             59.33|\n",
      "|2011-11-24 10:00:00| 53.75000000000001|\n",
      "|2012-01-01 02:00:00|            132.12|\n",
      "|2012-02-08 04:00:00|             17.75|\n",
      "|2012-03-04 05:00:00| 58.31000000000001|\n",
      "+-------------------+------------------+\n",
      "only showing top 20 rows\n",
      "\n"
     ]
    }
   ],
   "source": [
    "val totalBenzeneDF = df_parquet.groupBy(\"`From Date`\").agg(sum($\"`Benzene (ug/m3)`\").alias(\"Total_Benzene\"))\n",
    "totalBenzeneDF.show()"
   ]
  },
  {
   "cell_type": "code",
   "execution_count": 21,
   "id": "bb61a2bc-edc9-4981-b5ce-725db162005e",
   "metadata": {
    "execution": {
     "iopub.execute_input": "2024-06-25T07:07:40.172051Z",
     "iopub.status.busy": "2024-06-25T07:07:40.171818Z",
     "iopub.status.idle": "2024-06-25T07:07:40.423579Z",
     "shell.execute_reply": "2024-06-25T07:07:40.422419Z",
     "shell.execute_reply.started": "2024-06-25T07:07:40.172026Z"
    }
   },
   "outputs": [
    {
     "data": {
      "application/vnd.jupyter.widget-view+json": {
       "model_id": "cb1d4bcbc3c6419cad508dceb53592ec",
       "version_major": 2,
       "version_minor": 0
      },
      "text/plain": [
       "VBox()"
      ]
     },
     "metadata": {},
     "output_type": "display_data"
    },
    {
     "data": {
      "application/vnd.jupyter.widget-view+json": {
       "model_id": "",
       "version_major": 2,
       "version_minor": 0
      },
      "text/plain": [
       "FloatProgress(value=0.0, bar_style='info', description='Progress:', layout=Layout(height='25px', width='50%'),…"
      ]
     },
     "metadata": {},
     "output_type": "display_data"
    },
    {
     "name": "stdout",
     "output_type": "stream",
     "text": [
      "mysqlUrl: String = jdbc:mysql://34.94.143.214/spark_emr\n"
     ]
    }
   ],
   "source": [
    "val mysqlUrl = \"jdbc:mysql://34.94.143.214/spark_emr\""
   ]
  },
  {
   "cell_type": "code",
   "execution_count": 22,
   "id": "16670665-a9ed-42ca-8fed-4682fa171305",
   "metadata": {
    "execution": {
     "iopub.execute_input": "2024-06-25T07:07:53.340411Z",
     "iopub.status.busy": "2024-06-25T07:07:53.340194Z",
     "iopub.status.idle": "2024-06-25T07:07:53.586018Z",
     "shell.execute_reply": "2024-06-25T07:07:53.585274Z",
     "shell.execute_reply.started": "2024-06-25T07:07:53.340386Z"
    }
   },
   "outputs": [
    {
     "data": {
      "application/vnd.jupyter.widget-view+json": {
       "model_id": "730bf2b6816b4fba855ef9ad2d9aade1",
       "version_major": 2,
       "version_minor": 0
      },
      "text/plain": [
       "VBox()"
      ]
     },
     "metadata": {},
     "output_type": "display_data"
    },
    {
     "data": {
      "application/vnd.jupyter.widget-view+json": {
       "model_id": "",
       "version_major": 2,
       "version_minor": 0
      },
      "text/plain": [
       "FloatProgress(value=0.0, bar_style='info', description='Progress:', layout=Layout(height='25px', width='50%'),…"
      ]
     },
     "metadata": {},
     "output_type": "display_data"
    },
    {
     "name": "stdout",
     "output_type": "stream",
     "text": [
      "mysqlUser: String = admin\n"
     ]
    }
   ],
   "source": [
    "val mysqlUser = \"admin\""
   ]
  },
  {
   "cell_type": "code",
   "execution_count": 23,
   "id": "a0b3275e-bb95-4755-aac6-54dd0d87fdbc",
   "metadata": {
    "execution": {
     "iopub.execute_input": "2024-06-25T07:08:05.374646Z",
     "iopub.status.busy": "2024-06-25T07:08:05.374429Z",
     "iopub.status.idle": "2024-06-25T07:08:05.622477Z",
     "shell.execute_reply": "2024-06-25T07:08:05.621894Z",
     "shell.execute_reply.started": "2024-06-25T07:08:05.374622Z"
    }
   },
   "outputs": [
    {
     "data": {
      "application/vnd.jupyter.widget-view+json": {
       "model_id": "9ba29802388947df88988d4cf05f783d",
       "version_major": 2,
       "version_minor": 0
      },
      "text/plain": [
       "VBox()"
      ]
     },
     "metadata": {},
     "output_type": "display_data"
    },
    {
     "data": {
      "application/vnd.jupyter.widget-view+json": {
       "model_id": "",
       "version_major": 2,
       "version_minor": 0
      },
      "text/plain": [
       "FloatProgress(value=0.0, bar_style='info', description='Progress:', layout=Layout(height='25px', width='50%'),…"
      ]
     },
     "metadata": {},
     "output_type": "display_data"
    },
    {
     "name": "stdout",
     "output_type": "stream",
     "text": [
      "mysqlPassword: String = Ron@1999\n"
     ]
    }
   ],
   "source": [
    "val mysqlPassword = \"Ron@1999\""
   ]
  },
  {
   "cell_type": "code",
   "execution_count": 24,
   "id": "773e6756-ad3d-4626-a2f1-35389768b469",
   "metadata": {
    "execution": {
     "iopub.execute_input": "2024-06-25T07:09:06.161994Z",
     "iopub.status.busy": "2024-06-25T07:09:06.161666Z",
     "iopub.status.idle": "2024-06-25T07:12:03.936729Z",
     "shell.execute_reply": "2024-06-25T07:12:03.936141Z",
     "shell.execute_reply.started": "2024-06-25T07:09:06.161953Z"
    }
   },
   "outputs": [
    {
     "data": {
      "application/vnd.jupyter.widget-view+json": {
       "model_id": "67d567987a814005a91bab8246e9b5e9",
       "version_major": 2,
       "version_minor": 0
      },
      "text/plain": [
       "VBox()"
      ]
     },
     "metadata": {},
     "output_type": "display_data"
    },
    {
     "data": {
      "application/vnd.jupyter.widget-view+json": {
       "model_id": "",
       "version_major": 2,
       "version_minor": 0
      },
      "text/plain": [
       "FloatProgress(value=0.0, bar_style='info', description='Progress:', layout=Layout(height='25px', width='50%'),…"
      ]
     },
     "metadata": {},
     "output_type": "display_data"
    }
   ],
   "source": [
    "sumPM10DF.write.format(\"jdbc\").options(\n",
    "Map(\n",
    "\"url\" -> mysqlUrl,\n",
    "\"user\" -> mysqlUser,\n",
    "\"password\" -> mysqlPassword,\n",
    "\"dbtable\" -> \"spark_emr\"\n",
    ")).mode(\"append\").save()"
   ]
  },
  {
   "cell_type": "code",
   "execution_count": 25,
   "id": "c2b4b125-180f-48df-8d58-7767263f78c9",
   "metadata": {
    "execution": {
     "iopub.execute_input": "2024-06-25T07:18:28.708777Z",
     "iopub.status.busy": "2024-06-25T07:18:28.708543Z",
     "iopub.status.idle": "2024-06-25T07:21:26.481183Z",
     "shell.execute_reply": "2024-06-25T07:21:26.480550Z",
     "shell.execute_reply.started": "2024-06-25T07:18:28.708753Z"
    }
   },
   "outputs": [
    {
     "data": {
      "application/vnd.jupyter.widget-view+json": {
       "model_id": "8d2292d3661c405dbb95d87d4efb3200",
       "version_major": 2,
       "version_minor": 0
      },
      "text/plain": [
       "VBox()"
      ]
     },
     "metadata": {},
     "output_type": "display_data"
    },
    {
     "data": {
      "application/vnd.jupyter.widget-view+json": {
       "model_id": "",
       "version_major": 2,
       "version_minor": 0
      },
      "text/plain": [
       "FloatProgress(value=0.0, bar_style='info', description='Progress:', layout=Layout(height='25px', width='50%'),…"
      ]
     },
     "metadata": {},
     "output_type": "display_data"
    }
   ],
   "source": [
    "avgPM25DF.write.format(\"jdbc\").options(\n",
    "Map(\n",
    "\"url\" -> mysqlUrl,\n",
    "\"user\" -> mysqlUser,\n",
    "\"password\" -> mysqlPassword,\n",
    "\"dbtable\" -> \"avg_PM_25DF\"\n",
    ")).mode(\"append\").save()"
   ]
  },
  {
   "cell_type": "code",
   "execution_count": 26,
   "id": "bcc73b12-550f-4474-b563-3023bf815700",
   "metadata": {
    "execution": {
     "iopub.execute_input": "2024-06-25T07:23:06.030396Z",
     "iopub.status.busy": "2024-06-25T07:23:06.030173Z",
     "iopub.status.idle": "2024-06-25T07:25:01.602181Z",
     "shell.execute_reply": "2024-06-25T07:25:01.601626Z",
     "shell.execute_reply.started": "2024-06-25T07:23:06.030371Z"
    }
   },
   "outputs": [
    {
     "data": {
      "application/vnd.jupyter.widget-view+json": {
       "model_id": "1ddcd35e81c14961992be55ee697120e",
       "version_major": 2,
       "version_minor": 0
      },
      "text/plain": [
       "VBox()"
      ]
     },
     "metadata": {},
     "output_type": "display_data"
    },
    {
     "data": {
      "application/vnd.jupyter.widget-view+json": {
       "model_id": "",
       "version_major": 2,
       "version_minor": 0
      },
      "text/plain": [
       "FloatProgress(value=0.0, bar_style='info', description='Progress:', layout=Layout(height='25px', width='50%'),…"
      ]
     },
     "metadata": {},
     "output_type": "display_data"
    }
   ],
   "source": [
    "maxPM10DF.write.format(\"jdbc\").options(\n",
    "Map(\n",
    "\"url\" -> mysqlUrl,\n",
    "\"user\" -> mysqlUser,\n",
    "\"password\" -> mysqlPassword,\n",
    "\"dbtable\" -> \"max_PM_10DF\"\n",
    ")).mode(\"append\").save()"
   ]
  },
  {
   "cell_type": "code",
   "execution_count": 27,
   "id": "2d107236-86cb-4149-9965-83ac949c160a",
   "metadata": {
    "execution": {
     "iopub.execute_input": "2024-06-25T07:27:17.372679Z",
     "iopub.status.busy": "2024-06-25T07:27:17.372465Z",
     "iopub.status.idle": "2024-06-25T07:29:08.925404Z",
     "shell.execute_reply": "2024-06-25T07:29:08.924770Z",
     "shell.execute_reply.started": "2024-06-25T07:27:17.372657Z"
    }
   },
   "outputs": [
    {
     "data": {
      "application/vnd.jupyter.widget-view+json": {
       "model_id": "c8ce977447e14358b8fc26804301517c",
       "version_major": 2,
       "version_minor": 0
      },
      "text/plain": [
       "VBox()"
      ]
     },
     "metadata": {},
     "output_type": "display_data"
    },
    {
     "data": {
      "application/vnd.jupyter.widget-view+json": {
       "model_id": "",
       "version_major": 2,
       "version_minor": 0
      },
      "text/plain": [
       "FloatProgress(value=0.0, bar_style='info', description='Progress:', layout=Layout(height='25px', width='50%'),…"
      ]
     },
     "metadata": {},
     "output_type": "display_data"
    }
   ],
   "source": [
    "totalNOxDF.write.format(\"jdbc\").options(\n",
    "Map(\n",
    "\"url\" -> mysqlUrl,\n",
    "\"user\" -> mysqlUser,\n",
    "\"password\" -> mysqlPassword,\n",
    "\"dbtable\" -> \"total_nox_df\"\n",
    ")).mode(\"append\").save()"
   ]
  },
  {
   "cell_type": "code",
   "execution_count": 28,
   "id": "a4b31a7a-e903-4c0d-9117-2a935cf402f7",
   "metadata": {
    "execution": {
     "iopub.execute_input": "2024-06-25T07:36:52.701018Z",
     "iopub.status.busy": "2024-06-25T07:36:52.700803Z",
     "iopub.status.idle": "2024-06-25T07:39:50.453102Z",
     "shell.execute_reply": "2024-06-25T07:39:50.452377Z",
     "shell.execute_reply.started": "2024-06-25T07:36:52.700994Z"
    }
   },
   "outputs": [
    {
     "data": {
      "application/vnd.jupyter.widget-view+json": {
       "model_id": "135e67e873a743c68de2bc1bc864d9cb",
       "version_major": 2,
       "version_minor": 0
      },
      "text/plain": [
       "VBox()"
      ]
     },
     "metadata": {},
     "output_type": "display_data"
    },
    {
     "data": {
      "application/vnd.jupyter.widget-view+json": {
       "model_id": "",
       "version_major": 2,
       "version_minor": 0
      },
      "text/plain": [
       "FloatProgress(value=0.0, bar_style='info', description='Progress:', layout=Layout(height='25px', width='50%'),…"
      ]
     },
     "metadata": {},
     "output_type": "display_data"
    }
   ],
   "source": [
    "avgTempDF.write.format(\"jdbc\").options(\n",
    "Map(\n",
    "\"url\" -> mysqlUrl,\n",
    "\"user\" -> mysqlUser,\n",
    "\"password\" -> mysqlPassword,\n",
    "\"dbtable\" -> \"avg_temp_df\"\n",
    ")).mode(\"append\").save()"
   ]
  },
  {
   "cell_type": "code",
   "execution_count": 29,
   "id": "d8b3e505-74c0-4c6d-82aa-e93f264c308b",
   "metadata": {
    "execution": {
     "iopub.execute_input": "2024-06-25T07:43:43.158350Z",
     "iopub.status.busy": "2024-06-25T07:43:43.158137Z",
     "iopub.status.idle": "2024-06-25T07:46:44.899420Z",
     "shell.execute_reply": "2024-06-25T07:46:44.898816Z",
     "shell.execute_reply.started": "2024-06-25T07:43:43.158329Z"
    }
   },
   "outputs": [
    {
     "data": {
      "application/vnd.jupyter.widget-view+json": {
       "model_id": "988e63ff30c24836b422edb13e9a8b34",
       "version_major": 2,
       "version_minor": 0
      },
      "text/plain": [
       "VBox()"
      ]
     },
     "metadata": {},
     "output_type": "display_data"
    },
    {
     "data": {
      "application/vnd.jupyter.widget-view+json": {
       "model_id": "",
       "version_major": 2,
       "version_minor": 0
      },
      "text/plain": [
       "FloatProgress(value=0.0, bar_style='info', description='Progress:', layout=Layout(height='25px', width='50%'),…"
      ]
     },
     "metadata": {},
     "output_type": "display_data"
    }
   ],
   "source": [
    "maxCODF.write.format(\"jdbc\").options(\n",
    "Map(\n",
    "\"url\" -> mysqlUrl,\n",
    "\"user\" -> mysqlUser,\n",
    "\"password\" -> mysqlPassword,\n",
    "\"dbtable\" -> \"max_co_df\"\n",
    ")).mode(\"append\").save()"
   ]
  },
  {
   "cell_type": "code",
   "execution_count": 30,
   "id": "b0fbfadd-e649-4411-bccd-0e1fafb5f5db",
   "metadata": {
    "execution": {
     "iopub.execute_input": "2024-06-25T07:48:37.646204Z",
     "iopub.status.busy": "2024-06-25T07:48:37.645974Z",
     "iopub.status.idle": "2024-06-25T07:50:29.190214Z",
     "shell.execute_reply": "2024-06-25T07:50:29.189450Z",
     "shell.execute_reply.started": "2024-06-25T07:48:37.646179Z"
    }
   },
   "outputs": [
    {
     "data": {
      "application/vnd.jupyter.widget-view+json": {
       "model_id": "4e17e47f3c3143fabf839188197cbde9",
       "version_major": 2,
       "version_minor": 0
      },
      "text/plain": [
       "VBox()"
      ]
     },
     "metadata": {},
     "output_type": "display_data"
    },
    {
     "data": {
      "application/vnd.jupyter.widget-view+json": {
       "model_id": "",
       "version_major": 2,
       "version_minor": 0
      },
      "text/plain": [
       "FloatProgress(value=0.0, bar_style='info', description='Progress:', layout=Layout(height='25px', width='50%'),…"
      ]
     },
     "metadata": {},
     "output_type": "display_data"
    }
   ],
   "source": [
    "sumNO2DF.write.format(\"jdbc\").options(\n",
    "Map(\n",
    "\"url\" -> mysqlUrl,\n",
    "\"user\" -> mysqlUser,\n",
    "\"password\" -> mysqlPassword,\n",
    "\"dbtable\" -> \"sum_no2_df\"\n",
    ")).mode(\"append\").save()"
   ]
  },
  {
   "cell_type": "code",
   "execution_count": 31,
   "id": "2749a602-1fe3-4680-a0c6-5133d469b78a",
   "metadata": {
    "execution": {
     "iopub.execute_input": "2024-06-25T07:51:32.729228Z",
     "iopub.status.busy": "2024-06-25T07:51:32.729011Z",
     "iopub.status.idle": "2024-06-25T07:53:28.294916Z",
     "shell.execute_reply": "2024-06-25T07:53:28.294269Z",
     "shell.execute_reply.started": "2024-06-25T07:51:32.729204Z"
    }
   },
   "outputs": [
    {
     "data": {
      "application/vnd.jupyter.widget-view+json": {
       "model_id": "a58f23fceba248e9942c8ce137ad61ce",
       "version_major": 2,
       "version_minor": 0
      },
      "text/plain": [
       "VBox()"
      ]
     },
     "metadata": {},
     "output_type": "display_data"
    },
    {
     "data": {
      "application/vnd.jupyter.widget-view+json": {
       "model_id": "",
       "version_major": 2,
       "version_minor": 0
      },
      "text/plain": [
       "FloatProgress(value=0.0, bar_style='info', description='Progress:', layout=Layout(height='25px', width='50%'),…"
      ]
     },
     "metadata": {},
     "output_type": "display_data"
    }
   ],
   "source": [
    "minRHDF.write.format(\"jdbc\").options(\n",
    "Map(\n",
    "\"url\" -> mysqlUrl,\n",
    "\"user\" -> mysqlUser,\n",
    "\"password\" -> mysqlPassword,\n",
    "\"dbtable\" -> \"min_RH_df\"\n",
    ")).mode(\"append\").save()"
   ]
  },
  {
   "cell_type": "code",
   "execution_count": 32,
   "id": "a945ec56-1441-4f47-a757-f1d32bad020b",
   "metadata": {
    "execution": {
     "iopub.execute_input": "2024-06-25T07:54:19.827700Z",
     "iopub.status.busy": "2024-06-25T07:54:19.827485Z",
     "iopub.status.idle": "2024-06-25T07:57:09.505695Z",
     "shell.execute_reply": "2024-06-25T07:57:09.504955Z",
     "shell.execute_reply.started": "2024-06-25T07:54:19.827676Z"
    }
   },
   "outputs": [
    {
     "data": {
      "application/vnd.jupyter.widget-view+json": {
       "model_id": "75f590e69a5844b2bfa4287eb5163987",
       "version_major": 2,
       "version_minor": 0
      },
      "text/plain": [
       "VBox()"
      ]
     },
     "metadata": {},
     "output_type": "display_data"
    },
    {
     "data": {
      "application/vnd.jupyter.widget-view+json": {
       "model_id": "",
       "version_major": 2,
       "version_minor": 0
      },
      "text/plain": [
       "FloatProgress(value=0.0, bar_style='info', description='Progress:', layout=Layout(height='25px', width='50%'),…"
      ]
     },
     "metadata": {},
     "output_type": "display_data"
    }
   ],
   "source": [
    "avgWSDF.write.format(\"jdbc\").options(\n",
    "Map(\n",
    "\"url\" -> mysqlUrl,\n",
    "\"user\" -> mysqlUser,\n",
    "\"password\" -> mysqlPassword,\n",
    "\"dbtable\" -> \"avg_ws_df\"\n",
    ")).mode(\"append\").save()"
   ]
  },
  {
   "cell_type": "code",
   "execution_count": 33,
   "id": "9c20bc1e-5c77-40c3-a28a-3347e0fd31a6",
   "metadata": {
    "execution": {
     "iopub.execute_input": "2024-06-25T07:58:12.407138Z",
     "iopub.status.busy": "2024-06-25T07:58:12.406905Z",
     "iopub.status.idle": "2024-06-25T08:01:14.152235Z",
     "shell.execute_reply": "2024-06-25T08:01:14.151646Z",
     "shell.execute_reply.started": "2024-06-25T07:58:12.407116Z"
    }
   },
   "outputs": [
    {
     "data": {
      "application/vnd.jupyter.widget-view+json": {
       "model_id": "986bf49067184d70b6ecbb94014483dd",
       "version_major": 2,
       "version_minor": 0
      },
      "text/plain": [
       "VBox()"
      ]
     },
     "metadata": {},
     "output_type": "display_data"
    },
    {
     "data": {
      "application/vnd.jupyter.widget-view+json": {
       "model_id": "",
       "version_major": 2,
       "version_minor": 0
      },
      "text/plain": [
       "FloatProgress(value=0.0, bar_style='info', description='Progress:', layout=Layout(height='25px', width='50%'),…"
      ]
     },
     "metadata": {},
     "output_type": "display_data"
    }
   ],
   "source": [
    "maxSRDF.write.format(\"jdbc\").options(\n",
    "Map(\n",
    "\"url\" -> mysqlUrl,\n",
    "\"user\" -> mysqlUser,\n",
    "\"password\" -> mysqlPassword,\n",
    "\"dbtable\" -> \"max_sr_df\"\n",
    ")).mode(\"append\").save()"
   ]
  },
  {
   "cell_type": "code",
   "execution_count": 34,
   "id": "6cff4b24-db9e-4d23-b46f-4ff28d1fb1f0",
   "metadata": {
    "execution": {
     "iopub.execute_input": "2024-06-25T08:02:11.783476Z",
     "iopub.status.busy": "2024-06-25T08:02:11.783250Z",
     "iopub.status.idle": "2024-06-25T08:05:11.519225Z",
     "shell.execute_reply": "2024-06-25T08:05:11.518625Z",
     "shell.execute_reply.started": "2024-06-25T08:02:11.783451Z"
    }
   },
   "outputs": [
    {
     "data": {
      "application/vnd.jupyter.widget-view+json": {
       "model_id": "6fa96c537cd747bd88677bf10f7287ae",
       "version_major": 2,
       "version_minor": 0
      },
      "text/plain": [
       "VBox()"
      ]
     },
     "metadata": {},
     "output_type": "display_data"
    },
    {
     "data": {
      "application/vnd.jupyter.widget-view+json": {
       "model_id": "",
       "version_major": 2,
       "version_minor": 0
      },
      "text/plain": [
       "FloatProgress(value=0.0, bar_style='info', description='Progress:', layout=Layout(height='25px', width='50%'),…"
      ]
     },
     "metadata": {},
     "output_type": "display_data"
    }
   ],
   "source": [
    "totalBenzeneDF.write.format(\"jdbc\").options(\n",
    "Map(\n",
    "\"url\" -> mysqlUrl,\n",
    "\"user\" -> mysqlUser,\n",
    "\"password\" -> mysqlPassword,\n",
    "\"dbtable\" -> \"total_benzene_df\"\n",
    ")).mode(\"append\").save()"
   ]
  },
  {
   "cell_type": "code",
   "execution_count": null,
   "id": "2ffea71b-5eef-4042-aa0a-960e0635ba16",
   "metadata": {},
   "outputs": [],
   "source": []
  }
 ],
 "metadata": {
  "kernelspec": {
   "display_name": "Spark",
   "language": "scala",
   "name": "sparkkernel"
  },
  "language_info": {
   "codemirror_mode": "text/x-scala",
   "file_extension": ".sc",
   "mimetype": "text/x-scala",
   "name": "scala",
   "pygments_lexer": "scala"
  }
 },
 "nbformat": 4,
 "nbformat_minor": 5
}
